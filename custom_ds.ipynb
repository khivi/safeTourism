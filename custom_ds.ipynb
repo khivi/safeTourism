{
 "cells": [
  {
   "cell_type": "code",
   "execution_count": 1,
   "metadata": {},
   "outputs": [
    {
     "data": {
      "text/plain": [
       "list"
      ]
     },
     "execution_count": 1,
     "metadata": {},
     "output_type": "execute_result"
    }
   ],
   "source": [
    "categories = [\"entertainment\", \"sports\", \"technology\", \"politics\"]\n",
    "type(categories)"
   ]
  },
  {
   "cell_type": "code",
   "execution_count": 3,
   "metadata": {},
   "outputs": [
    {
     "name": "stdout",
     "output_type": "stream",
     "text": [
      "entertainment\n",
      "sports\n",
      "technology\n",
      "politics\n"
     ]
    }
   ],
   "source": [
    "cat_list = []\n",
    "data_list = []\n",
    "for cat in categories:\n",
    "    print(cat)\n",
    "    with open('{}.txt'.format(cat)) as f:\n",
    "    #lines = [line.rstrip('\\n') for line in open('{}.txt'.format(cat))]\n",
    "        lines=f.readlines()\n",
    "        lines = [x.strip() for x in lines]\n",
    "        data_list.extend(lines)\n",
    "        le = len(lines)\n",
    "        for r in range(le):\n",
    "            cat_list.append(cat)"
   ]
  },
  {
   "cell_type": "code",
   "execution_count": 4,
   "metadata": {},
   "outputs": [
    {
     "name": "stdout",
     "output_type": "stream",
     "text": [
      "3468\n",
      "3468\n"
     ]
    }
   ],
   "source": [
    "print(len(data_list))\n",
    "#print(data_list)\n",
    "print(len(cat_list))\n",
    "#print(cat_list)"
   ]
  },
  {
   "cell_type": "code",
   "execution_count": 5,
   "metadata": {},
   "outputs": [
    {
     "name": "stdout",
     "output_type": "stream",
     "text": [
      "3468\n",
      "[0 0 0 ... 1 1 1]\n"
     ]
    }
   ],
   "source": [
    "from sklearn import preprocessing\n",
    "le = preprocessing.LabelEncoder()\n",
    "target = le.fit_transform(cat_list)\n",
    "print(len(target))\n",
    "print(target)"
   ]
  },
  {
   "cell_type": "code",
   "execution_count": 6,
   "metadata": {},
   "outputs": [
    {
     "name": "stdout",
     "output_type": "stream",
     "text": [
      "Headlines    Cricket News: Former Indian pacer Roger Binny ...\n",
      "Category                                                sports\n",
      "Target                                                       2\n",
      "Name: 1000, dtype: object\n"
     ]
    }
   ],
   "source": [
    "import pandas as pd\n",
    "d = {'Headlines':data_list, 'Category':cat_list, 'Target': target}\n",
    "#print(d)\n",
    "df = pd.DataFrame(d)\n",
    "print(df.iloc[1000])"
   ]
  },
  {
   "cell_type": "code",
   "execution_count": 7,
   "metadata": {},
   "outputs": [
    {
     "name": "stdout",
     "output_type": "stream",
     "text": [
      "<class 'list'>\n",
      "(3468, 10898)\n",
      "[[0 0 0 ... 0 0 0]\n",
      " [0 0 0 ... 0 0 0]\n",
      " [0 0 0 ... 0 0 0]\n",
      " ...\n",
      " [0 0 0 ... 0 0 0]\n",
      " [0 0 0 ... 0 0 0]\n",
      " [0 0 0 ... 0 0 0]]\n"
     ]
    }
   ],
   "source": [
    "from sklearn.feature_extraction.text import CountVectorizer\n",
    "count_vect = CountVectorizer()\n",
    "x_train_tf = count_vect.fit_transform(data_list)\n",
    "print(type(data_list))\n",
    "print(x_train_tf.shape)\n",
    "print(x_train_tf.toarray())"
   ]
  },
  {
   "cell_type": "code",
   "execution_count": 8,
   "metadata": {},
   "outputs": [
    {
     "data": {
      "text/plain": [
       "(3468, 10898)"
      ]
     },
     "execution_count": 8,
     "metadata": {},
     "output_type": "execute_result"
    }
   ],
   "source": [
    "from sklearn.feature_extraction.text import TfidfTransformer\n",
    "tfidf_transformer = TfidfTransformer()\n",
    "x_train_tfidf = tfidf_transformer.fit_transform(x_train_tf)\n",
    "x_train_tfidf.shape"
   ]
  },
  {
   "cell_type": "code",
   "execution_count": 9,
   "metadata": {},
   "outputs": [],
   "source": [
    "from sklearn.naive_bayes import MultinomialNB\n",
    "clf = MultinomialNB().fit(x_train_tfidf, target)"
   ]
  },
  {
   "cell_type": "code",
   "execution_count": 10,
   "metadata": {},
   "outputs": [
    {
     "name": "stdout",
     "output_type": "stream",
     "text": [
      "['entertainment', 'sports', 'technology', 'politics']\n",
      "[0 0 0 ... 1 1 1]\n"
     ]
    }
   ],
   "source": [
    "print(categories)\n",
    "print(target)"
   ]
  },
  {
   "cell_type": "code",
   "execution_count": 11,
   "metadata": {},
   "outputs": [
    {
     "name": "stdout",
     "output_type": "stream",
     "text": [
      "50\n"
     ]
    }
   ],
   "source": [
    "test_data = []\n",
    "with open('headlines.txt', 'r+', encoding='utf-8') as f:\n",
    "    lines = f.readlines()\n",
    "    lines = [x.strip() for x in lines]\n",
    "    test_data.extend(lines)\n",
    "print(len(test_data))"
   ]
  },
  {
   "cell_type": "code",
   "execution_count": 12,
   "metadata": {},
   "outputs": [],
   "source": [
    "#test_data = [\"The value of losses from crime in the digital currency sector in 2018 hit $1.7 billion.\", \"15 jawans killed after Naxals trigger IED blast in Maharashtra's Gadchiroli.\",  \"iPhone XS specs vs. XS Max, XR, X: What's the same and different\", \"2 People Injured In Indiana School Shooting\", \"Twitter Bots May Have Delivered Donald Trump's Victory, Research Paper Says\", \"60 Seconds of Social Media\", \"My Son Only Read One Book in Middle School\"]\n",
    "#test_data = [\"Most developers should be familiar with Google's cross-platform, portable UI framework Flutter, which can make developing apps for both Android and iOS a whole lot easier. In fact, it just recently hit 1.0 late last year. Today, at the company's I/O developer\"]\n",
    "\n",
    "x_test_tf = count_vect.transform(test_data)\n",
    "x_test_tfidf = tfidf_transformer.transform(x_test_tf)\n",
    "predicted = clf.predict(x_test_tfidf)"
   ]
  },
  {
   "cell_type": "code",
   "execution_count": 23,
   "metadata": {},
   "outputs": [
    {
     "name": "stdout",
     "output_type": "stream",
     "text": [
      "[3 1 2 1 1 1 3 1 1 1 1 1 3 1 3 1 1 0 1 3 3 1 3 1 3 2 2 2 2 2 1 1 1 1 1 1 2\n",
      " 1 1 1 1 2 2 1 1 1 1 1 1 1]\n"
     ]
    }
   ],
   "source": [
    "print(predicted)"
   ]
  },
  {
   "cell_type": "code",
   "execution_count": 24,
   "metadata": {},
   "outputs": [
    {
     "name": "stdout",
     "output_type": "stream",
     "text": [
      "50\n",
      "['technology', 'politics', 'sports', 'politics', 'politics', 'politics', 'technology', 'politics', 'politics', 'politics', 'politics', 'politics', 'technology', 'politics', 'technology', 'politics', 'politics', 'entertainment', 'politics', 'technology', 'technology', 'politics', 'technology', 'politics', 'technology', 'sports', 'sports', 'sports', 'sports', 'sports', 'politics', 'politics', 'politics', 'politics', 'politics', 'politics', 'sports', 'politics', 'politics', 'politics', 'politics', 'sports', 'sports', 'politics', 'politics', 'politics', 'politics', 'politics', 'politics', 'politics']\n"
     ]
    }
   ],
   "source": [
    "test_cat_list = []\n",
    "for x in predicted:\n",
    "    if x == 0:\n",
    "        test_cat_list.append('entertainment')\n",
    "    #elif x == 1:\n",
    "    #    test_cat_list.append('general')\n",
    "    elif x == 1:\n",
    "        test_cat_list.append('politics')\n",
    "    elif x == 2:\n",
    "        test_cat_list.append('sports')\n",
    "    elif x == 3:\n",
    "        test_cat_list.append('technology')\n",
    "print(len(test_cat_list))\n",
    "print(test_cat_list)"
   ]
  },
  {
   "cell_type": "code",
   "execution_count": 14,
   "metadata": {},
   "outputs": [],
   "source": [
    "#import pandas as pd\n",
    "#d = {'Headlines':test_data, 'Category':test_cat_list}\n",
    "#print(d)\n",
    "#dfd = pd.DataFrame(d)\n",
    "#print(dfd)"
   ]
  },
  {
   "cell_type": "code",
   "execution_count": 15,
   "metadata": {},
   "outputs": [],
   "source": [
    "#Direct Method --------------------\n",
    "import sklearn.datasets as skd\n",
    "from sklearn.pipeline import Pipeline\n",
    "from sklearn.feature_extraction.text import TfidfVectorizer\n",
    "from sklearn.naive_bayes import MultinomialNB"
   ]
  },
  {
   "cell_type": "code",
   "execution_count": 16,
   "metadata": {},
   "outputs": [],
   "source": [
    "text_clf = Pipeline([('vect', TfidfVectorizer()), \n",
    "                      ('clf', MultinomialNB()) ])\n"
   ]
  },
  {
   "cell_type": "code",
   "execution_count": 17,
   "metadata": {},
   "outputs": [],
   "source": [
    "text_clf.fit(data_list, target)\n",
    "predicted = text_clf.predict(test_data)\n",
    "pred_prob = text_clf.predict_proba(test_data)"
   ]
  },
  {
   "cell_type": "code",
   "execution_count": 18,
   "metadata": {},
   "outputs": [],
   "source": [
    "from sklearn import metrics\n",
    "from sklearn.metrics import accuracy_score\n",
    "import numpy as np"
   ]
  },
  {
   "cell_type": "code",
   "execution_count": 19,
   "metadata": {},
   "outputs": [
    {
     "data": {
      "text/plain": [
       "array([[0.23774716, 0.22516424, 0.17443009, 0.36265851],\n",
       "       [0.02426427, 0.91565469, 0.03318355, 0.02689749],\n",
       "       [0.19631415, 0.2205969 , 0.33154805, 0.25154089],\n",
       "       [0.05634279, 0.50761049, 0.13244016, 0.30360656],\n",
       "       [0.12255116, 0.52519723, 0.09441743, 0.25783418],\n",
       "       [0.07750519, 0.47067979, 0.30157305, 0.15024197],\n",
       "       [0.06169474, 0.3756234 , 0.14808358, 0.41459829],\n",
       "       [0.24281698, 0.41685726, 0.11913673, 0.22118902],\n",
       "       [0.10488739, 0.62168669, 0.12967127, 0.14375465],\n",
       "       [0.10682111, 0.64054658, 0.1639029 , 0.08872941],\n",
       "       [0.18197706, 0.32978172, 0.2135463 , 0.27469492],\n",
       "       [0.1148175 , 0.62447102, 0.17897649, 0.08173498],\n",
       "       [0.04019372, 0.32607759, 0.07403721, 0.55969148],\n",
       "       [0.23054502, 0.37742533, 0.30626851, 0.08576114],\n",
       "       [0.0480606 , 0.23645742, 0.09727185, 0.61821013],\n",
       "       [0.25936654, 0.3066459 , 0.30280131, 0.13118625],\n",
       "       [0.14606022, 0.45039118, 0.14616422, 0.25738438],\n",
       "       [0.40817437, 0.2175377 , 0.11655709, 0.25773084],\n",
       "       [0.15808872, 0.31987315, 0.22544674, 0.29659139],\n",
       "       [0.24924741, 0.14379089, 0.23979204, 0.36716965],\n",
       "       [0.04027284, 0.02688651, 0.04092216, 0.89191848],\n",
       "       [0.18759604, 0.30535739, 0.2607932 , 0.24625336],\n",
       "       [0.19814879, 0.29191064, 0.14792693, 0.36201363],\n",
       "       [0.16055146, 0.39459811, 0.26461091, 0.18023952],\n",
       "       [0.17639134, 0.25507951, 0.20206499, 0.36646416],\n",
       "       [0.01684988, 0.02480277, 0.94660951, 0.01173784],\n",
       "       [0.02392629, 0.1173518 , 0.82798627, 0.03073564],\n",
       "       [0.0375338 , 0.06830026, 0.86145814, 0.0327078 ],\n",
       "       [0.01926821, 0.02874771, 0.94065502, 0.01132906],\n",
       "       [0.02176358, 0.02494936, 0.94071149, 0.01257556],\n",
       "       [0.06687942, 0.44577337, 0.09817755, 0.38916966],\n",
       "       [0.05130503, 0.74564452, 0.11231736, 0.09073309],\n",
       "       [0.13205087, 0.38328823, 0.27050561, 0.2141553 ],\n",
       "       [0.13113475, 0.48985585, 0.26959944, 0.10940996],\n",
       "       [0.05516785, 0.73481813, 0.13904066, 0.07097336],\n",
       "       [0.04396363, 0.7911285 , 0.11563768, 0.0492702 ],\n",
       "       [0.03490073, 0.07163609, 0.83907241, 0.05439076],\n",
       "       [0.09376571, 0.53594932, 0.23151824, 0.13876673],\n",
       "       [0.11670224, 0.64193512, 0.16967353, 0.07168911],\n",
       "       [0.14080785, 0.55792912, 0.19846078, 0.10280225],\n",
       "       [0.12796801, 0.48592778, 0.22455636, 0.16154785],\n",
       "       [0.05003912, 0.16550664, 0.7322371 , 0.05221714],\n",
       "       [0.28842526, 0.2188002 , 0.38949278, 0.10328177],\n",
       "       [0.12116594, 0.6263736 , 0.19692738, 0.05553308],\n",
       "       [0.06194135, 0.55095789, 0.17271769, 0.21438307],\n",
       "       [0.12037634, 0.45698378, 0.31542549, 0.10721439],\n",
       "       [0.01661429, 0.91079715, 0.05069514, 0.02189343],\n",
       "       [0.04645243, 0.54479701, 0.18089722, 0.22785334],\n",
       "       [0.06819685, 0.72666547, 0.14665389, 0.05848379],\n",
       "       [0.02943256, 0.87648625, 0.06152131, 0.03255988]])"
      ]
     },
     "execution_count": 19,
     "metadata": {},
     "output_type": "execute_result"
    }
   ],
   "source": [
    "#predicted\n",
    "pred_prob "
   ]
  },
  {
   "cell_type": "code",
   "execution_count": 25,
   "metadata": {},
   "outputs": [
    {
     "name": "stdout",
     "output_type": "stream",
     "text": [
      "50\n",
      "50\n",
      "50\n"
     ]
    }
   ],
   "source": [
    "type(pred_prob)\n",
    "#print(len (pred_prob))\n",
    "#print (pred_prob[0])\n",
    "#print(np.amax(pred_prob[0]))\n",
    "prob_list =[]\n",
    "for i in range(len(pred_prob)):\n",
    "    prob_list.append(np.amax(pred_prob[i]))\n",
    "print (len(prob_list))\n",
    "print (len(test_cat_list))\n",
    "print (len(test_data))"
   ]
  },
  {
   "cell_type": "code",
   "execution_count": 26,
   "metadata": {
    "scrolled": false
   },
   "outputs": [
    {
     "name": "stdout",
     "output_type": "stream",
     "text": [
      "<class 'pandas.core.frame.DataFrame'>\n"
     ]
    }
   ],
   "source": [
    "d = {'Headlines':test_data, 'Category':test_cat_list, 'Probability':prob_list}\n",
    "#print(d)\n",
    "dfd = pd.DataFrame(d)\n",
    "print(type(dfd))"
   ]
  },
  {
   "cell_type": "code",
   "execution_count": 27,
   "metadata": {},
   "outputs": [
    {
     "name": "stdout",
     "output_type": "stream",
     "text": [
      "<class 'pandas.core.frame.DataFrame'>\n"
     ]
    }
   ],
   "source": [
    "#fp = open('analysis.txt', 'w')\n",
    "#fp.write(dfd)\n",
    "#fp.close()\n",
    "#np.savetxt(r'./analysis.txt', dfd.values, fmt='%s')\n",
    "ds = dfd.applymap(str)\n",
    "print(type(ds))\n",
    "ds.to_csv('analysis.csv')\n",
    "#np.savetxt(r'./analysis.txt', ds.values, fmt='%s',encoding=\"utf-8\",header=\"Headlines\\tCategories\\tProbability\")"
   ]
  },
  {
   "cell_type": "code",
   "execution_count": null,
   "metadata": {},
   "outputs": [],
   "source": []
  }
 ],
 "metadata": {
  "kernelspec": {
   "display_name": "Python 3",
   "language": "python",
   "name": "python3"
  },
  "language_info": {
   "codemirror_mode": {
    "name": "ipython",
    "version": 3
   },
   "file_extension": ".py",
   "mimetype": "text/x-python",
   "name": "python",
   "nbconvert_exporter": "python",
   "pygments_lexer": "ipython3",
   "version": "3.6.7"
  }
 },
 "nbformat": 4,
 "nbformat_minor": 2
}
