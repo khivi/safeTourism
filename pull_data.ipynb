{
 "cells": [
  {
   "cell_type": "code",
   "execution_count": 1,
   "metadata": {},
   "outputs": [],
   "source": [
    "import requests\n",
    "import json"
   ]
  },
  {
   "cell_type": "code",
   "execution_count": 2,
   "metadata": {},
   "outputs": [],
   "source": [
    "apiKey = \"2a8e84d984e747bb83dc02dcc52860de\"\n",
    "country = \"in\"\n",
    "category = \"business\"\n",
    "pageSize = 100"
   ]
  },
  {
   "cell_type": "code",
   "execution_count": 3,
   "metadata": {},
   "outputs": [],
   "source": [
    "response = requests.get('https://newsapi.org/v2/top-headlines?country={0}&category={1}&pageSize={2}&apiKey={3}'.format(country, category, pageSize, apiKey))\n",
    "#res_str = 'https://newsapi.org/v2/top-headlines?country={0}&category={1}&pageSize={2}&apiKey={3}'.format(country, category, pageSize, apiKey)\n",
    "#print(res_str)"
   ]
  },
  {
   "cell_type": "code",
   "execution_count": 4,
   "metadata": {},
   "outputs": [
    {
     "name": "stdout",
     "output_type": "stream",
     "text": [
      "200\n"
     ]
    }
   ],
   "source": [
    "print(response.status_code)"
   ]
  },
  {
   "cell_type": "code",
   "execution_count": 5,
   "metadata": {},
   "outputs": [],
   "source": [
    "obj = open('{}.txt'.format(category), 'a')\n",
    "resp = json.loads(response.content)"
   ]
  },
  {
   "cell_type": "code",
   "execution_count": 6,
   "metadata": {},
   "outputs": [
    {
     "name": "stdout",
     "output_type": "stream",
     "text": [
      "<class 'str'>\n",
      "Among the sectors, except IT and Pharma all other indices are trading lower.\n",
      "Among the sectors, except IT and Pharma all other indices are trading lower.\n",
      "\n",
      "70\n"
     ]
    }
   ],
   "source": [
    "print(type(resp['articles'][0]['description']))\n",
    "#print(resp)\n",
    "print(resp['articles'][0]['description'])\n",
    "print(resp['articles'][0]['description'] + \"\\n\")\n",
    "print(resp['totalResults'])"
   ]
  },
  {
   "cell_type": "code",
   "execution_count": 7,
   "metadata": {},
   "outputs": [],
   "source": [
    "for index in range(resp['totalResults']):\n",
    "    data = str(resp['articles'][index]['description']) + \"\\n\"\n",
    "    data = data.encode('ascii', 'ignore').decode('ascii')\n",
    "    obj.write(data)"
   ]
  },
  {
   "cell_type": "code",
   "execution_count": null,
   "metadata": {},
   "outputs": [],
   "source": []
  },
  {
   "cell_type": "code",
   "execution_count": null,
   "metadata": {},
   "outputs": [],
   "source": []
  }
 ],
 "metadata": {
  "kernelspec": {
   "display_name": "Python 3",
   "language": "python",
   "name": "python3"
  },
  "language_info": {
   "codemirror_mode": {
    "name": "ipython",
    "version": 3
   },
   "file_extension": ".py",
   "mimetype": "text/x-python",
   "name": "python",
   "nbconvert_exporter": "python",
   "pygments_lexer": "ipython3",
   "version": "3.6.7"
  }
 },
 "nbformat": 4,
 "nbformat_minor": 2
}
